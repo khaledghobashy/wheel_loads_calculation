{
 "cells": [
  {
   "cell_type": "code",
   "execution_count": 1,
   "metadata": {
    "collapsed": true
   },
   "outputs": [],
   "source": [
    "import sympy as sy\n",
    "import numpy as np\n",
    "import matplotlib.pyplot as plt\n",
    "sy.init_printing(pretty_print=True)"
   ]
  },
  {
   "cell_type": "markdown",
   "metadata": {},
   "source": [
    "# Wheel Loads"
   ]
  },
  {
   "cell_type": "markdown",
   "metadata": {},
   "source": [
    "### Assumptions Used\n",
    "- Steady-State Operating conditions\n",
    "- Linear prperties (spring rates, roll rates, etc)\n",
    "- Superposition of effects.\n",
    "- Reasonably stiff chassis to be considered rigid."
   ]
  },
  {
   "cell_type": "markdown",
   "metadata": {},
   "source": [
    "### CG Location"
   ]
  },
  {
   "cell_type": "code",
   "execution_count": 2,
   "metadata": {
    "collapsed": false
   },
   "outputs": [
    {
     "data": {
      "image/png": "[encoded data removed]",
      "text/latex": [
       "$$- \\frac{d w_{1}}{w} - \\frac{t_{R}}{2} + \\frac{t_{R} w_{4}}{w} + \\frac{w_{2}}{w} \\left(- d + t_{F}\\right)$$"
      ],
      "text/plain": [
       "  d⋅w₁   t_R   t_R⋅w₄   w₂⋅(-d + t_F)\n",
       "- ──── - ─── + ────── + ─────────────\n",
       "   w      2      w            w      "
      ]
     },
     "execution_count": 2,
     "metadata": {},
     "output_type": "execute_result"
    }
   ],
   "source": [
    "w,w1,w2,w3,w4,tf,tr,d=sy.symbols('w,w1,w2,w3,w4,t_F,t_R,d')\n",
    "\n",
    "#Lateral shift from longitudinal axis y\"\n",
    "y_dash=(w2/w)*(tf-d)-(w1/w)*d+(w4*tr/w)\n",
    "y_ddash=y_dash-(tr/2)\n",
    "y_ddash"
   ]
  },
  {
   "cell_type": "markdown",
   "metadata": {},
   "source": [
    "### Chassis Stiffness"
   ]
  },
  {
   "cell_type": "markdown",
   "metadata": {},
   "source": [
    "### Lateral Load Transfer"
   ]
  },
  {
   "cell_type": "code",
   "execution_count": 3,
   "metadata": {
    "collapsed": false
   },
   "outputs": [
    {
     "data": {
      "image/png": "[encoded data removed]",
      "text/latex": [
       "$$\\Delta_{W}$$"
      ],
      "text/plain": [
       "Δ_W"
      ]
     },
     "execution_count": 3,
     "metadata": {},
     "output_type": "execute_result"
    }
   ],
   "source": [
    "w,wl,wr,ay,h,t,delta_w=sy.symbols('W,W_L,W_R,A_Y,h,t,Delta_W')\n",
    "wl=(w/2)+(w*ay*h/t)\n",
    "llt=ay*h/t # total lateral load transfer as a fraction of total weight\n",
    "delta_w"
   ]
  },
  {
   "cell_type": "markdown",
   "metadata": {},
   "source": [
    "#### TLLTD (Total Lateral Load Transfer Distribution)"
   ]
  },
  {
   "cell_type": "code",
   "execution_count": 4,
   "metadata": {
    "collapsed": false
   },
   "outputs": [],
   "source": [
    "W_s,h_2,K_Fd,K_F,K_R,l,a_s,z_RF,z_WF,W_uF,t_F=sy.symbols(\"W_s,h_2,K_F',K_F,K_R,l,a_s,z_RF,z_WF,W_uF,t_F\")\n",
    "delta_W_F=ay*((W_s/t_F)*((h_2*K_Fd/(K_F+K_R-W_s*h_2))+(((l-a_s)/l)*z_RF))+(W_uF*z_WF/t_F))"
   ]
  },
  {
   "cell_type": "code",
   "execution_count": 5,
   "metadata": {
    "collapsed": false
   },
   "outputs": [],
   "source": [
    "t_R,K_Rd,W_uR,z_WR,z_RR=sy.symbols(\"t_R,K_R',W_uR,z_WR,z_RR\")\n",
    "delta_W_R=ay*((W_s/t_R)*((h_2*K_Rd/(K_F+K_R-W_s*h_2))+((a_s/l)*z_RR))+(W_uR*z_WR/t_R))"
   ]
  },
  {
   "cell_type": "code",
   "execution_count": 6,
   "metadata": {
    "collapsed": false,
    "scrolled": true
   },
   "outputs": [
    {
     "data": {
      "image/png": "[encoded data removed]",
      "text/latex": [
       "$$\\left ( A_{Y} \\left(\\frac{W_{s}}{t_{F}} \\left(\\frac{K_{F'} h_{2}}{K_{F} + K_{R} - W_{s} h_{2}} + \\frac{z_{RF}}{l} \\left(- a_{s} + l\\right)\\right) + \\frac{W_{uF} z_{WF}}{t_{F}}\\right), \\quad A_{Y} \\left(\\frac{W_{s}}{t_{R}} \\left(\\frac{K_{R'} h_{2}}{K_{F} + K_{R} - W_{s} h_{2}} + \\frac{a_{s} z_{RR}}{l}\\right) + \\frac{W_{uR} z_{WR}}{t_{R}}\\right)\\right )$$"
      ],
      "text/plain": [
       "⎛    ⎛   ⎛     K_F'⋅h₂        z_RF⋅(-aₛ + l)⎞            ⎞      ⎛   ⎛     K_R'\n",
       "⎜    ⎜Wₛ⋅⎜───────────────── + ──────────────⎟            ⎟      ⎜Wₛ⋅⎜─────────\n",
       "⎜    ⎜   ⎝K_F + K_R - Wₛ⋅h₂         l       ⎠   W_uF⋅z_WF⎟      ⎜   ⎝K_F + K_R\n",
       "⎜A_Y⋅⎜─────────────────────────────────────── + ─────────⎟, A_Y⋅⎜─────────────\n",
       "⎝    ⎝                  t_F                        t_F   ⎠      ⎝             \n",
       "\n",
       "⋅h₂        aₛ⋅z_RR⎞            ⎞⎞\n",
       "──────── + ───────⎟            ⎟⎟\n",
       " - Wₛ⋅h₂      l   ⎠   W_uR⋅z_WR⎟⎟\n",
       "─────────────────── + ─────────⎟⎟\n",
       " t_R                     t_R   ⎠⎠"
      ]
     },
     "execution_count": 6,
     "metadata": {},
     "output_type": "execute_result"
    }
   ],
   "source": [
    "delta_W_F,delta_W_R"
   ]
  },
  {
   "cell_type": "markdown",
   "metadata": {},
   "source": [
    "#### TLLTD (Total Lateral Load Transfer Distribution)\n"
   ]
  },
  {
   "cell_type": "code",
   "execution_count": 7,
   "metadata": {
    "collapsed": true
   },
   "outputs": [],
   "source": [
    "W=350               #Total weight (kg)\n",
    "h=320*10**-3        #CG height (m)\n",
    "l=1.6               #Wheelbase (m)\n",
    "a=l*0.5             #Front track to CG position (m)\n",
    "b=l-a               #Rear track to CG position (m)\n",
    "t_F=1.150           #Front Track (m)\n",
    "t_R=1.100           #Rear Track (m)\n",
    "z_RF=55*10**-3      #Front RC height (m)\n",
    "z_RR=80*10**-3      #Rear RC height (m)\n",
    "H=252.5*10**-3         #CG to NRA height (m)\n",
    "K_F=(952/9.81)/(np.pi/180) #Front Roll Stiffness (kg.m/rad)\n",
    "K_R=(891/9.81)/(np.pi/180) #Front Roll Stiffness (kg.m/rad)\n",
    "A_y=1.2\n",
    "\n",
    "W_s=W\n",
    "h_2=H\n",
    "K_Fd=K_F\n",
    "K_Rd=K_R\n",
    "a_s=a\n",
    "z_WF=z_RF\n",
    "z_WR=z_RR\n",
    "W_uF=0\n",
    "W_uR=0\n",
    "\n",
    "delta_W_R=A_y*((W_s/t_R)*((h_2*K_Rd/(K_F+K_R-W_s*h_2))+((a_s/l)*z_RR))+(W_uR*z_WR/t_R))\n",
    "delta_W_F=A_y*((W_s/t_F)*((h_2*K_Fd/(K_F+K_R-W_s*h_2))+(((l-a_s)/l)*z_RF))+(W_uF*z_WF/t_F))\n",
    "K_phi=(W*H)/(K_F+K_R-W*h_2)*180/np.pi"
   ]
  },
  {
   "cell_type": "code",
   "execution_count": 8,
   "metadata": {
    "collapsed": false
   },
   "outputs": [
    {
     "data": {
      "text/plain": [
       "{Delta_W_F: 58.0726150283426,\n",
       " Delta_W_R: 62.26762317493432,\n",
       " 'TLLT': 120.34023820327693,\n",
       " 'Roll_Rate': 0.4743003382722751,\n",
       " 'LLT': 0.34382925200936265}"
      ]
     },
     "execution_count": 8,
     "metadata": {},
     "output_type": "execute_result"
    }
   ],
   "source": [
    "{sy.Symbol('Delta_W_F'):delta_W_F,sy.Symbol('Delta_W_R'):delta_W_R,'TLLT':delta_W_F+delta_W_R,'Roll_Rate':K_phi,'LLT':(delta_W_F+delta_W_R)/W}"
   ]
  },
  {
   "cell_type": "markdown",
   "metadata": {},
   "source": [
    "### Longitudinal Weight Transfer"
   ]
  },
  {
   "cell_type": "code",
   "execution_count": 9,
   "metadata": {
    "collapsed": false
   },
   "outputs": [
    {
     "data": {
      "image/png": "[encoded data removed]",
      "text/latex": [
       "$$84.0$$"
      ],
      "text/plain": [
       "84.0"
      ]
     },
     "execution_count": 9,
     "metadata": {},
     "output_type": "execute_result"
    }
   ],
   "source": [
    "A_x=1.2 #Logitudinal Acceleration (g)\n",
    "delta_x=(h/l)*W*A_x\n",
    "delta_x"
   ]
  },
  {
   "cell_type": "code",
   "execution_count": 10,
   "metadata": {
    "collapsed": false
   },
   "outputs": [],
   "source": [
    "w1=w2=w3=w4=W/4"
   ]
  },
  {
   "cell_type": "markdown",
   "metadata": {},
   "source": [
    "### Cornering Only"
   ]
  },
  {
   "cell_type": "code",
   "execution_count": 11,
   "metadata": {
    "collapsed": false
   },
   "outputs": [
    {
     "data": {
      "image/png": "[encoded data removed]",
      "text/latex": [
       "$$\\left ( 145.5726150283426, \\quad 29.427384971657403, \\quad 149.76762317493433, \\quad 25.23237682506568\\right )$$"
      ],
      "text/plain": [
       "(145.5726150283426, 29.427384971657403, 149.76762317493433, 25.23237682506568)"
      ]
     },
     "execution_count": 11,
     "metadata": {},
     "output_type": "execute_result"
    }
   ],
   "source": [
    "w1c=w1+delta_W_F #Outer Front\n",
    "w2c=w2-delta_W_F #Inner Front\n",
    "w3c=w3+delta_W_R #Outer Rear\n",
    "w4c=w4-delta_W_R #Inner Rear\n",
    "w1c,w2c,w3c,w4c"
   ]
  },
  {
   "cell_type": "markdown",
   "metadata": {},
   "source": [
    "### Braking Only"
   ]
  },
  {
   "cell_type": "code",
   "execution_count": 12,
   "metadata": {
    "collapsed": false
   },
   "outputs": [
    {
     "data": {
      "image/png": "[encoded data removed]",
      "text/latex": [
       "$$\\left ( 129.5, \\quad 129.5, \\quad 45.5, \\quad 45.5\\right )$$"
      ],
      "text/plain": [
       "(129.5, 129.5, 45.5, 45.5)"
      ]
     },
     "execution_count": 12,
     "metadata": {},
     "output_type": "execute_result"
    }
   ],
   "source": [
    "w1b=w2b=w1+(delta_x*0.5)\n",
    "w3b=w4b=w3-(delta_x*0.5)\n",
    "w1b,w2b,w3b,w4b"
   ]
  },
  {
   "cell_type": "markdown",
   "metadata": {},
   "source": [
    "### Cornering and Braking"
   ]
  },
  {
   "cell_type": "code",
   "execution_count": 13,
   "metadata": {
    "collapsed": false,
    "scrolled": true
   },
   "outputs": [
    {
     "data": {
      "text/plain": [
       "({'b': 1317.3827520180278, 'c': 1317.3827520180278, 'v': 1552.5504622835724},\n",
       " {'b': 633.75192790437882, 'c': 633.75192790437882, 'v': 746.88380968539036},\n",
       " {'b': 847.65056996886665, 'c': 847.65056996886665, 'v': 998.96577683604619},\n",
       " {'b': 114.63610995353987, 'c': 114.63610995353987, 'v': 135.09995119499121},\n",
       " 59.396969619669989,\n",
       " 85.093398483141542)"
      ]
     },
     "execution_count": 13,
     "metadata": {},
     "output_type": "execute_result"
    }
   ],
   "source": [
    "theta_friction=np.deg2rad(45)\n",
    "A_y=1.2*np.cos(theta_friction)\n",
    "A_x=1.2*np.sin(theta_friction)\n",
    "delta_W_R=A_y*((W_s/t_R)*((h_2*K_Rd/(K_F+K_R-W_s*h_2))+((a_s/l)*z_RR))+(W_uR*z_WR/t_R))\n",
    "delta_W_F=A_y*((W_s/t_F)*((h_2*K_Fd/(K_F+K_R-W_s*h_2))+(((l-a_s)/l)*z_RF))+(W_uF*z_WF/t_F))\n",
    "delta_x=(h/l)*W*A_x\n",
    "\n",
    "w1t=w1+(0.5*delta_x)+delta_W_F\n",
    "w2t=w2+(0.5*delta_x)-delta_W_F\n",
    "w3t=w3-(0.5*delta_x)+delta_W_R\n",
    "w4t=w4-(0.5*delta_x)-delta_W_R\n",
    "\n",
    "w1f={'c':w1t*A_y*9.81,'b':w1t*A_x*9.81,'v':w1t*9.81}\n",
    "w2f={'c':w2t*A_y*9.81,'b':w2t*A_x*9.81,'v':w2t*9.81}\n",
    "w3f={'c':w3t*A_y*9.81,'b':w3t*A_x*9.81,'v':w3t*9.81}\n",
    "w4f={'c':w4t*A_y*9.81,'b':w4t*A_x*9.81,'v':w4t*9.81}\n",
    "\n",
    "w1f,w2f,w3f,w4f,delta_x,delta_W_F+delta_W_R"
   ]
  },
  {
   "cell_type": "code",
   "execution_count": 151,
   "metadata": {
    "collapsed": false
   },
   "outputs": [
    {
     "data": {
      "image/png": "[encoded data removed]",
      "text/plain": [
       "<matplotlib.figure.Figure at 0x220143cff28>"
      ]
     },
     "metadata": {},
     "output_type": "display_data"
    }
   ],
   "source": [
    "w1l=[]\n",
    "w2l=[]\n",
    "w3l=[]\n",
    "w4l=[]\n",
    "theta=90\n",
    "for i in np.arange(0,theta,5):\n",
    "    theta_friction=np.deg2rad(i)\n",
    "    A_y=1.2*np.cos(theta_friction)\n",
    "    A_x=1.2*np.sin(theta_friction)\n",
    "    delta_W_R=A_y*((W_s/t_R)*((h_2*K_Rd/(K_F+K_R-W_s*h_2))+((a_s/l)*z_RR))+(W_uR*z_WR/t_R))\n",
    "    delta_W_F=A_y*((W_s/t_F)*((h_2*K_Fd/(K_F+K_R-W_s*h_2))+(((l-a_s)/l)*z_RF))+(W_uF*z_WF/t_F))\n",
    "    delta_x=(h/l)*W*A_x\n",
    "\n",
    "    w1t=w1+(0.5*delta_x)+delta_W_F\n",
    "    w2t=w2+(0.5*delta_x)-delta_W_F\n",
    "    w3t=w3-(0.5*delta_x)+delta_W_R\n",
    "    w4t=w4-(0.5*delta_x)-delta_W_R\n",
    "    \n",
    "    w1l.append(w1t)\n",
    "    w2l.append(w2t)\n",
    "    w3l.append(w3t)\n",
    "    w4l.append(w4t)\n",
    "plt.plot(np.arange(0,theta,5),w1l,label='FO')\n",
    "plt.plot(np.arange(0,theta,5),w2l,label='FI')\n",
    "plt.plot(np.arange(0,theta,5),w3l,label='RO')\n",
    "plt.plot(np.arange(0,theta,5),w4l,label='RI')\n",
    "plt.legend()\n",
    "plt.grid()\n",
    "plt.show()"
   ]
  },
  {
   "cell_type": "code",
   "execution_count": 14,
   "metadata": {
    "collapsed": false
   },
   "outputs": [
    {
     "data": {
      "image/png": "[encoded data removed]",
      "text/latex": [
       "$$1.5384615384615385$$"
      ],
      "text/plain": [
       "1.5384615384615385"
      ]
     },
     "execution_count": 14,
     "metadata": {},
     "output_type": "execute_result"
    }
   ],
   "source": [
    "200/130"
   ]
  },
  {
   "cell_type": "code",
   "execution_count": null,
   "metadata": {
    "collapsed": true
   },
   "outputs": [],
   "source": []
  }
 ],
 "metadata": {
  "kernelspec": {
   "display_name": "Python 3",
   "language": "python",
   "name": "python3"
  },
  "language_info": {
   "codemirror_mode": {
    "name": "ipython",
    "version": 3
   },
   "file_extension": ".py",
   "mimetype": "text/x-python",
   "name": "python",
   "nbconvert_exporter": "python",
   "pygments_lexer": "ipython3",
   "version": "3.6.0"
  }
 },
 "nbformat": 4,
 "nbformat_minor": 0
}
